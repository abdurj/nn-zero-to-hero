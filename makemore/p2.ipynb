{
 "cells": [
  {
   "cell_type": "code",
   "execution_count": 179,
   "id": "0aa0f7dc",
   "metadata": {},
   "outputs": [],
   "source": [
    "import torch\n",
    "import torch.nn.functional as F\n",
    "import matplotlib.pyplot as plt\n",
    "%matplotlib inline"
   ]
  },
  {
   "cell_type": "code",
   "execution_count": 180,
   "id": "412ca527",
   "metadata": {},
   "outputs": [
    {
     "data": {
      "text/plain": [
       "['emma', 'olivia', 'ava', 'isabella', 'sophia', 'charlotte', 'mia', 'amelia']"
      ]
     },
     "execution_count": 180,
     "metadata": {},
     "output_type": "execute_result"
    }
   ],
   "source": [
    "words = open('names.txt', 'r').read().splitlines()\n",
    "words[:8]  "
   ]
  },
  {
   "cell_type": "code",
   "execution_count": 181,
   "id": "e9ee593d",
   "metadata": {},
   "outputs": [
    {
     "data": {
      "text/plain": [
       "32033"
      ]
     },
     "execution_count": 181,
     "metadata": {},
     "output_type": "execute_result"
    }
   ],
   "source": [
    "len(words)"
   ]
  },
  {
   "cell_type": "code",
   "execution_count": 182,
   "id": "86ac7a45",
   "metadata": {},
   "outputs": [
    {
     "name": "stdout",
     "output_type": "stream",
     "text": [
      "{1: 'a', 2: 'b', 3: 'c', 4: 'd', 5: 'e', 6: 'f', 7: 'g', 8: 'h', 9: 'i', 10: 'j', 11: 'k', 12: 'l', 13: 'm', 14: 'n', 15: 'o', 16: 'p', 17: 'q', 18: 'r', 19: 's', 20: 't', 21: 'u', 22: 'v', 23: 'w', 24: 'x', 25: 'y', 26: 'z', 0: '.'}\n"
     ]
    }
   ],
   "source": [
    "chars = sorted(list(set(''.join(words))))\n",
    "stoi = { ch:i+1 for i,ch in enumerate(chars) } # 1 is reserved for padding\n",
    "stoi['.'] = 0\n",
    "itos = { i:ch for ch,i in stoi.items() }\n",
    "print(itos)"
   ]
  },
  {
   "cell_type": "code",
   "execution_count": 183,
   "id": "c3d49b4d",
   "metadata": {},
   "outputs": [],
   "source": [
    "# Build Dataset\n",
    "block_size = 3\n",
    "X, Y = [], []\n",
    "for w in words:\n",
    "    context = [0] * block_size\n",
    "    for ch in w + '.':\n",
    "        ix = stoi[ch]\n",
    "        X.append(context)\n",
    "        Y.append(ix)\n",
    "        # print(''.join(itos[i] for i in context), '->', itos[ix])\n",
    "        context = context[1:] + [ix]\n",
    "\n",
    "X = torch.tensor(X)\n",
    "Y = torch.tensor(Y)"
   ]
  },
  {
   "cell_type": "code",
   "execution_count": 209,
   "id": "482fd2bf",
   "metadata": {},
   "outputs": [],
   "source": [
    "def build_dataset(words):\n",
    "    block_size = 3\n",
    "    X, Y = [], []\n",
    "    for w in words:\n",
    "        context = [0] * block_size\n",
    "        for ch in w + '.':\n",
    "            ix = stoi[ch]\n",
    "            X.append(context)\n",
    "            Y.append(ix)\n",
    "            context = context[1:] + [ix]\n",
    "    X = torch.tensor(X)\n",
    "    Y = torch.tensor(Y)\n",
    "    return X, Y\n",
    "\n",
    "import random\n",
    "random.seed(42)\n",
    "random.shuffle(words)\n",
    "n1 = int(0.8 * len(words))\n",
    "n2 = int(0.9 * len(words))\n",
    "\n",
    "Xtr, Ytr = build_dataset(words[:n1])\n",
    "Xdev, Ydev = build_dataset(words[n1:n2])\n",
    "Xte, Yte = build_dataset(words[n2:])"
   ]
  },
  {
   "cell_type": "code",
   "execution_count": 247,
   "id": "1d94ea3e",
   "metadata": {},
   "outputs": [
    {
     "name": "stdout",
     "output_type": "stream",
     "text": [
      "X shape: torch.Size([182625, 3]), Y shape: torch.Size([182625])\n"
     ]
    }
   ],
   "source": [
    "X, Y = Xtr, Ytr  # for training\n",
    "print(f\"X shape: {X.shape}, Y shape: {Y.shape}\")\n",
    "\n",
    "\n",
    "# Training\n",
    "g = torch.Generator().manual_seed(2147483647)  # for reproducibility\n",
    "\n",
    "embedding_dim = 10  # dimension of character embeddings\n",
    "layer_size = 200\n",
    "nchars = 27\n",
    "\n",
    "# take character as input and get 2d embedding\n",
    "C = torch.randn((nchars, embedding_dim), generator=g)  # character embeddings\n",
    "# character embedding -> hidden layer\n",
    "W1 = torch.randn((embedding_dim * block_size, layer_size), generator=g)  # input to hidden layer\n",
    "b1 = torch.randn(layer_size, generator=g)  # bias for hidden layer\n",
    "# hidden layer -> output layer\n",
    "W2 = torch.randn((layer_size, nchars), generator=g)  # hidden to\n",
    "b2 = torch.randn(nchars, generator=g)  # bias for output layer\n",
    "\n",
    "parameters = [C, W1, b1, W2, b2]\n",
    "for p in parameters:\n",
    "    p.requires_grad = True"
   ]
  },
  {
   "cell_type": "code",
   "execution_count": 248,
   "id": "0722f735",
   "metadata": {},
   "outputs": [],
   "source": [
    "lri = []\n",
    "lossi = []\n",
    "stepi = []"
   ]
  },
  {
   "cell_type": "code",
   "execution_count": 263,
   "id": "7eb832ef",
   "metadata": {},
   "outputs": [],
   "source": [
    "nsteps = 50000\n",
    "lr = 0.01\n",
    "stepi = []\n",
    "lossi = []\n",
    "for i in range(nsteps):\n",
    "    # # sample a random batch of data\n",
    "    ix = torch.randint(0, X.shape[0], (32,), generator=g)  # 32 random indices\n",
    "    X_batch = X[ix]\n",
    "    Y_batch = Y[ix]\n",
    "\n",
    "    # forward pass\n",
    "    emb = C[X_batch]\n",
    "    h = torch.tanh(emb.view(emb.shape[0], -1) @ W1 + b1)\n",
    "    logits = h @ W2 + b2\n",
    "\n",
    "    # compute loss\n",
    "    loss = F.cross_entropy(logits, Y_batch)\n",
    "    # print(loss.item())\n",
    "\n",
    "    # backward pass\n",
    "    for p in parameters:\n",
    "        p.grad = None\n",
    "    loss.backward()\n",
    "\n",
    "    # update parameters\n",
    "    for p in parameters:\n",
    "        p.data += -lr * p.grad\n",
    "\n",
    "    stepi.append(i)\n",
    "    lossi.append(loss.log10().item())\n"
   ]
  },
  {
   "cell_type": "code",
   "execution_count": 256,
   "id": "c3abde61",
   "metadata": {},
   "outputs": [],
   "source": [
    "# plt.plot(stepi, lossi)"
   ]
  },
  {
   "cell_type": "code",
   "execution_count": 265,
   "id": "17775514",
   "metadata": {},
   "outputs": [
    {
     "name": "stdout",
     "output_type": "stream",
     "text": [
      "2.268083095550537\n"
     ]
    }
   ],
   "source": [
    "# forward pass\n",
    "# X, Y = Xdev, Ydev  # for validation\n",
    "X, Y = Xtr, Ytr  # for validation\n",
    "emb = C[X]\n",
    "h = torch.tanh(emb.view(emb.shape[0], -1) @ W1 + b1)\n",
    "logits = h @ W2 + b2\n",
    "\n",
    "# compute loss\n",
    "loss = F.cross_entropy(logits, Y)\n",
    "print(loss.item())\n"
   ]
  },
  {
   "cell_type": "code",
   "execution_count": 266,
   "id": "5001e91f",
   "metadata": {},
   "outputs": [
    {
     "name": "stdout",
     "output_type": "stream",
     "text": [
      "2.0757009983062744\n"
     ]
    }
   ],
   "source": [
    "# forward pass\n",
    "X, Y = Xte, Yte  # test\n",
    "emb = C[X]\n",
    "h = torch.tanh(emb.view(emb.shape[0], -1) @ W1 + b1)\n",
    "logits = h @ W2 + b2\n",
    "\n",
    "# compute loss\n",
    "loss = F.cross_entropy(logits, Y)\n",
    "print(loss.item())"
   ]
  },
  {
   "cell_type": "code",
   "execution_count": 267,
   "id": "66b5f43c",
   "metadata": {},
   "outputs": [
    {
     "name": "stdout",
     "output_type": "stream",
     "text": [
      "dex\n",
      "marialaurailah\n",
      "tahammilimithainella\n",
      "kaman\n",
      "arreliceulliah\n",
      "milian\n",
      "moziellah\n",
      "jazithda\n",
      "kaley\n",
      "masedly\n",
      "tiaverry\n",
      "folstofilie\n",
      "avon\n",
      "las\n",
      "kasorvonneslyn\n",
      "alaira\n",
      "aler\n",
      "dan\n",
      "kez\n",
      "myker\n"
     ]
    }
   ],
   "source": [
    "g = torch.Generator().manual_seed(2147483647)  # for reproducibility\n",
    "\n",
    "for _ in range(20):\n",
    "    out = []\n",
    "    context = [0] * block_size  # start with padding\n",
    "    while True:\n",
    "        emb = C[torch.tensor(context)]\n",
    "        h = torch.tanh(emb.view(1, -1) @ W1 + b1)\n",
    "        logits = h @ W2 + b2\n",
    "        probs = F.softmax(logits, dim=1)\n",
    "        ix = torch.multinomial(probs, num_samples=1, generator=g).item()\n",
    "        if ix == 0:  # stop if we hit the padding character\n",
    "            break\n",
    "        out.append(itos[ix])\n",
    "        context = context[1:] + [ix]\n",
    "    print(''.join(out))"
   ]
  }
 ],
 "metadata": {
  "kernelspec": {
   "display_name": ".venv",
   "language": "python",
   "name": "python3"
  },
  "language_info": {
   "codemirror_mode": {
    "name": "ipython",
    "version": 3
   },
   "file_extension": ".py",
   "mimetype": "text/x-python",
   "name": "python",
   "nbconvert_exporter": "python",
   "pygments_lexer": "ipython3",
   "version": "3.13.5"
  }
 },
 "nbformat": 4,
 "nbformat_minor": 5
}
